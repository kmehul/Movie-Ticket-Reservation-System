{
 "cells": [
  {
   "cell_type": "code",
   "execution_count": 2,
   "metadata": {},
   "outputs": [
    {
     "name": "stdout",
     "output_type": "stream",
     "text": [
      "Defaulting to user installation because normal site-packages is not writeable\n",
      "Collecting watchdog\n",
      "  Downloading watchdog-3.0.0-cp39-cp39-macosx_11_0_arm64.whl (91 kB)\n",
      "\u001b[2K     \u001b[90m━━━━━━━━━━━━━━━━━━━━━━━━━━━━━━━━━━━━━━━━\u001b[0m \u001b[32m91.8/91.8 kB\u001b[0m \u001b[31m2.2 MB/s\u001b[0m eta \u001b[36m0:00:00\u001b[0m\n",
      "\u001b[?25hInstalling collected packages: watchdog\n",
      "Successfully installed watchdog-3.0.0\n",
      "Note: you may need to restart the kernel to use updated packages.\n"
     ]
    }
   ],
   "source": [
    "%pip install watchdog"
   ]
  },
  {
   "cell_type": "code",
   "execution_count": 3,
   "metadata": {},
   "outputs": [
    {
     "name": "stdout",
     "output_type": "stream",
     "text": [
      "Collection updated: Theater\n",
      "Collection updated: Theater\n"
     ]
    }
   ],
   "source": [
    "import json\n",
    "import time\n",
    "from arango import ArangoClient\n",
    "from watchdog.observers import Observer\n",
    "from watchdog.events import FileSystemEventHandler\n",
    "\n",
    "\n",
    "class MyHandler(FileSystemEventHandler):\n",
    "    def on_modified(self, event):\n",
    "        if event.src_path.endswith('.json'):\n",
    "            update_arango_db(event.src_path)\n",
    "\n",
    "def update_arango_db(json_file_path):\n",
    "    file_name = json_file_path.split('/')[-1].split('.')[0]\n",
    "\n",
    "    if file_name in ['Movie', 'Theater', 'ShowTime', 'Reservation', 'Customer']:\n",
    "        update_collection(json_file_path)\n",
    "        print(f\"Collection updated: {file_name}\")\n",
    "\n",
    "def update_collection(json_file_path):\n",
    "    collection_name = json_file_path.split('/')[-1].split('.')[0]\n",
    "\n",
    "    # Connect to the ArangoDB server\n",
    "    client = ArangoClient(hosts='http://localhost:8529')\n",
    "    db = client.db('_system', username='root', password='')\n",
    "\n",
    "    # Clear the existing collection\n",
    "    if db.has_collection(collection_name):\n",
    "        collection = db.collection(collection_name)\n",
    "        collection.truncate()\n",
    "    else:\n",
    "        # Create the collection if it doesn't exist\n",
    "        db.create_collection(collection_name)\n",
    "        collection = db.collection(collection_name)\n",
    "\n",
    "    # Import data from the JSON file\n",
    "    with open(json_file_path, 'r') as f:\n",
    "        data = json.load(f)\n",
    "        for document in data:\n",
    "            collection.insert(document)\n",
    "\n",
    "def main():\n",
    "    path = \"/Users/mehul/Downloads/ADBMS/Project/json\"  # Set your path to the JSON files\n",
    "    event_handler = MyHandler()\n",
    "    observer = Observer()\n",
    "    observer.schedule(event_handler, path, recursive=False)\n",
    "    observer.start()\n",
    "\n",
    "    try:\n",
    "        while True:\n",
    "            time.sleep(1)\n",
    "    except KeyboardInterrupt:\n",
    "        observer.stop()\n",
    "\n",
    "    observer.join()\n",
    "\n",
    "if __name__ == \"__main__\":\n",
    "    main()\n",
    "\n"
   ]
  }
 ],
 "metadata": {
  "kernelspec": {
   "display_name": "Python 3",
   "language": "python",
   "name": "python3"
  },
  "language_info": {
   "codemirror_mode": {
    "name": "ipython",
    "version": 3
   },
   "file_extension": ".py",
   "mimetype": "text/x-python",
   "name": "python",
   "nbconvert_exporter": "python",
   "pygments_lexer": "ipython3",
   "version": "3.9.6"
  },
  "orig_nbformat": 4,
  "vscode": {
   "interpreter": {
    "hash": "b0fa6594d8f4cbf19f97940f81e996739fb7646882a419484c72d19e05852a7e"
   }
  }
 },
 "nbformat": 4,
 "nbformat_minor": 2
}
