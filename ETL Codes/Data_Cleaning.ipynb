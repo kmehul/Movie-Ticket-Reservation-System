{
  "nbformat": 4,
  "nbformat_minor": 0,
  "metadata": {
    "colab": {
      "provenance": []
    },
    "kernelspec": {
      "name": "python3",
      "display_name": "Python 3"
    },
    "language_info": {
      "name": "python"
    }
  },
  "cells": [
    {
      "cell_type": "code",
      "source": [
        "import pandas as pd\n",
        "import csv\n",
        "\n",
        "\n",
        "\n",
        "#Read all the CSV files\n",
        "df_Movie = pd.read_csv(\"Movie.csv\")\n",
        "df_Theater = pd.read_csv(\"Theater.csv\")\n",
        "df_ShowTime = pd.read_csv(\"ShowTime.csv\")\n",
        "df_Reservation = pd.read_csv(\"Reservation.csv\")\n",
        "df_Customer = pd.read_csv(\"Customer.csv\")\n",
        "\n",
        "# Print row and column counts before dropping null and duplicate values\n",
        "print(\"Row and column counts before dropping null and duplicate values:\")\n",
        "print(\"df_Movie:\", df_Movie.shape)\n",
        "print(\"df_Theater:\", df_Theater.shape)\n",
        "print(\"df_ShowTime:\", df_ShowTime.shape)\n",
        "print(\"df_Reservation:\", df_Reservation.shape)\n",
        "print(\"df_Customer:\", df_Customer.shape)\n",
        "\n",
        "# Drop null and duplicate values from each data frame\n",
        "df_Movie.dropna(inplace=True)\n",
        "df_Movie.drop_duplicates(inplace=True)\n",
        "\n",
        "df_Theater.dropna(inplace=True)\n",
        "df_Theater.drop_duplicates(inplace=True)\n",
        "\n",
        "df_ShowTime.dropna(inplace=True)\n",
        "df_ShowTime.drop_duplicates(inplace=True)\n",
        "\n",
        "df_Reservation.dropna(inplace=True)\n",
        "df_Reservation.drop_duplicates(inplace=True)\n",
        "\n",
        "df_Customer.dropna(inplace=True)\n",
        "df_Customer.drop_duplicates(inplace=True)\n",
        "\n",
        "# Print row and column counts after dropping null and duplicate values\n",
        "print(\"\\nRow and column counts after dropping null and duplicate values:\")\n",
        "print(\"df_Movie:\", df_Movie.shape)\n",
        "print(\"df_Theater:\", df_Theater.shape)\n",
        "print(\"df_ShowTime:\", df_ShowTime.shape)\n",
        "print(\"df_Reservation:\", df_Reservation.shape)\n",
        "print(\"df_Customer:\", df_Customer.shape)\n"
      ],
      "metadata": {
        "colab": {
          "base_uri": "https://localhost:8080/"
        },
        "id": "ZaD_q3EBvclG",
        "outputId": "cdf9bb23-b641-4915-e28c-dabdb50d60d6"
      },
      "execution_count": 8,
      "outputs": [
        {
          "output_type": "stream",
          "name": "stdout",
          "text": [
            "Row and column counts before dropping null and duplicate values:\n",
            "df_Movie: (50, 7)\n",
            "df_Theater: (50, 6)\n",
            "df_ShowTime: (50, 5)\n",
            "df_Reservation: (50, 5)\n",
            "df_Customer: (20, 7)\n",
            "\n",
            "Row and column counts after dropping null and duplicate values:\n",
            "df_Movie: (42, 7)\n",
            "df_Theater: (34, 6)\n",
            "df_ShowTime: (39, 5)\n",
            "df_Reservation: (33, 5)\n",
            "df_Customer: (12, 7)\n"
          ]
        }
      ]
    },
    {
      "cell_type": "code",
      "source": [
        "# Save the reduced data to the same file\n",
        "df_Movie.to_csv('Movie.csv', index=False)\n",
        "df_Theater.to_csv('Theater.csv', index=False)\n",
        "df_ShowTime.to_csv('ShowTime.csv', index=False)\n",
        "df_Reservation.to_csv('Reservation.csv', index=False)\n",
        "df_Customer.to_csv('Customer.csv', index=False)"
      ],
      "metadata": {
        "id": "yNVERv7twKsS"
      },
      "execution_count": 9,
      "outputs": []
    },
    {
      "cell_type": "code",
      "execution_count": 11,
      "metadata": {
        "id": "GL2CVKQA3vNo"
      },
      "outputs": [],
      "source": [
        "import csv\n",
        "import json\n",
        "\n",
        "def csv_to_json(csv_file_path, json_file_path):\n",
        "    # Read CSV file into a dictionary\n",
        "    with open(csv_file_path, 'r') as csv_file:\n",
        "        csv_reader = csv.DictReader(csv_file)\n",
        "        data = [row for row in csv_reader]\n",
        "\n",
        "    # Write dictionary to JSON file\n",
        "    with open(json_file_path, 'w') as json_file:\n",
        "        json.dump(data, json_file)\n",
        "\n",
        "# Example usage\n",
        "csv_to_json('Movie.csv', 'Movie.json')\n",
        "csv_to_json('Theater.csv', 'Theater.json')\n",
        "csv_to_json('ShowTime.csv', 'ShowTime.json')\n",
        "csv_to_json('Reservation.csv', 'Reservation.json')\n",
        "csv_to_json('Customer.csv', 'Customer.json')"
      ]
    }
  ]
}